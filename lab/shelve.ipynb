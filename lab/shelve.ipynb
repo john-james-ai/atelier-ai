{
 "cells": [
  {
   "cell_type": "code",
   "execution_count": 1,
   "metadata": {},
   "outputs": [
    {
     "data": {
      "text/plain": [
       "['tests/testdata/persistence/repo/test_repo_1/repository.db.bak',\n",
       " 'tests/testdata/persistence/repo/test_repo_1/repository.db.dir',\n",
       " 'tests/testdata/persistence/repo/test_repo_1/repository.db.dat']"
      ]
     },
     "execution_count": 1,
     "metadata": {},
     "output_type": "execute_result"
    }
   ],
   "source": [
    "from glob import glob\n",
    "pattern = \"tests/testdata/persistence/repo/test_repo_1/repository.*\"\n",
    "files = glob(pathname=pattern)\n",
    "files"
   ]
  }
 ],
 "metadata": {
  "kernelspec": {
   "display_name": "atelier",
   "language": "python",
   "name": "python3"
  },
  "language_info": {
   "codemirror_mode": {
    "name": "ipython",
    "version": 3
   },
   "file_extension": ".py",
   "mimetype": "text/x-python",
   "name": "python",
   "nbconvert_exporter": "python",
   "pygments_lexer": "ipython3",
   "version": "3.10.4"
  },
  "orig_nbformat": 4,
  "vscode": {
   "interpreter": {
    "hash": "252987ac2cfdc996a979f2e3fc764aa167f897c414def6facd7a41221f749d37"
   }
  }
 },
 "nbformat": 4,
 "nbformat_minor": 2
}
